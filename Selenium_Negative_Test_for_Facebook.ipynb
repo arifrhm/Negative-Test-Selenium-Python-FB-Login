{
  "cells": [
    {
      "cell_type": "markdown",
      "metadata": {
        "colab_type": "text",
        "id": "view-in-github"
      },
      "source": [
        "<a href=\"https://colab.research.google.com/github/arifrhm/Negative-Test-Selenium-Python-FB-Login/blob/main/Selenium_Negative_Test_for_Facebook.ipynb\" target=\"_parent\"><img src=\"https://colab.research.google.com/assets/colab-badge.svg\" alt=\"Open In Colab\"/></a>"
      ]
    },
    {
      "cell_type": "markdown",
      "metadata": {
        "id": "s1Og1Ho_yLb7"
      },
      "source": [
        "# Negative Testing Selenium Driver for Facebook Login Page\n",
        "\n",
        "Today I gonna show you how to do negative test in Facebook login form with Selenium.\n",
        "\n",
        "This test result expected FAILED credential when inputted and submitted to login form."
      ]
    },
    {
      "cell_type": "code",
      "execution_count": 8,
      "metadata": {
        "id": "6r92W22qyID_"
      },
      "outputs": [
        {
          "name": "stderr",
          "output_type": "stream",
          "text": [
            "/var/folders/q6/3sqvgn8d0fxbmcwfdkl_n4ph0000gn/T/ipykernel_40389/3498392839.py:9: DeprecationWarning: executable_path has been deprecated, please pass in a Service object\n",
            "  driver = webdriver.Chrome(\"./chromedriver\")\n"
          ]
        },
        {
          "ename": "AttributeError",
          "evalue": "'WebElement' object has no attribute 'close'",
          "output_type": "error",
          "traceback": [
            "\u001b[0;31m---------------------------------------------------------------------------\u001b[0m",
            "\u001b[0;31mAttributeError\u001b[0m                            Traceback (most recent call last)",
            "\u001b[1;32m/Volumes/AR_STORAGE/Selenium Negative Test/Negative-Test-Selenium-Python-FB-Login/Selenium_Negative_Test_for_Facebook.ipynb Cell 3'\u001b[0m in \u001b[0;36m<cell line: 16>\u001b[0;34m()\u001b[0m\n\u001b[1;32m     <a href='vscode-notebook-cell:/Volumes/AR_STORAGE/Selenium%20Negative%20Test/Negative-Test-Selenium-Python-FB-Login/Selenium_Negative_Test_for_Facebook.ipynb#ch0000002?line=13'>14</a>\u001b[0m element\u001b[39m.\u001b[39msend_keys(password)\n\u001b[1;32m     <a href='vscode-notebook-cell:/Volumes/AR_STORAGE/Selenium%20Negative%20Test/Negative-Test-Selenium-Python-FB-Login/Selenium_Negative_Test_for_Facebook.ipynb#ch0000002?line=14'>15</a>\u001b[0m element\u001b[39m.\u001b[39msend_keys(Keys\u001b[39m.\u001b[39mRETURN)\n\u001b[0;32m---> <a href='vscode-notebook-cell:/Volumes/AR_STORAGE/Selenium%20Negative%20Test/Negative-Test-Selenium-Python-FB-Login/Selenium_Negative_Test_for_Facebook.ipynb#ch0000002?line=15'>16</a>\u001b[0m element\u001b[39m.\u001b[39;49mclose()\n",
            "\u001b[0;31mAttributeError\u001b[0m: 'WebElement' object has no attribute 'close'"
          ]
        }
      ],
      "source": [
        "from selenium import webdriver\n",
        "from selenium.webdriver.common.keys import Keys\n",
        "from selenium.webdriver.common.by import By\n",
        "\n",
        "\n",
        "user_name = \"test_failed123@gmail.com\"\n",
        "password = \"test_failed123\"\n",
        "\n",
        "driver = webdriver.Chrome(\"./chromedriver\")\n",
        "driver.get(\"https://www.facebook.com\")\n",
        "element = driver.find_element(By.ID,\"email\")\n",
        "element.send_keys(user_name)\n",
        "element = driver.find_element(By.ID,\"pass\")\n",
        "element.send_keys(password)\n",
        "element.send_keys(Keys.RETURN)\n",
        "element.close()"
      ]
    },
    {
      "cell_type": "markdown",
      "metadata": {},
      "source": [
        "Result can be seen at file Screen Shot 2022-06-28 at 22.48.59.png\n",
        "\n",
        "I think that's all for this test.\n",
        "\n",
        "Thank you very much for your attention guys."
      ]
    }
  ],
  "metadata": {
    "colab": {
      "collapsed_sections": [],
      "include_colab_link": true,
      "name": "Selenium_Negative_Test_for_Facebook.ipynb",
      "provenance": []
    },
    "kernelspec": {
      "display_name": "Python 3.10.4 64-bit",
      "language": "python",
      "name": "python3"
    },
    "language_info": {
      "codemirror_mode": {
        "name": "ipython",
        "version": 3
      },
      "file_extension": ".py",
      "mimetype": "text/x-python",
      "name": "python",
      "nbconvert_exporter": "python",
      "pygments_lexer": "ipython3",
      "version": "3.10.4"
    },
    "vscode": {
      "interpreter": {
        "hash": "aee8b7b246df8f9039afb4144a1f6fd8d2ca17a180786b69acc140d282b71a49"
      }
    }
  },
  "nbformat": 4,
  "nbformat_minor": 0
}
