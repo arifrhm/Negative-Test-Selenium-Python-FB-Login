{
  "nbformat": 4,
  "nbformat_minor": 0,
  "metadata": {
    "colab": {
      "name": "Selenium_Negative_Test_for_Facebook.ipynb",
      "provenance": [],
      "collapsed_sections": [],
      "include_colab_link": true
    },
    "kernelspec": {
      "name": "python3",
      "display_name": "Python 3"
    },
    "language_info": {
      "name": "python"
    }
  },
  "cells": [
    {
      "cell_type": "markdown",
      "metadata": {
        "id": "view-in-github",
        "colab_type": "text"
      },
      "source": [
        "<a href=\"https://colab.research.google.com/github/arifrhm/Negative-Test-Selenium-Python-FB-Login/blob/main/Selenium_Negative_Test_for_Facebook.ipynb\" target=\"_parent\"><img src=\"https://colab.research.google.com/assets/colab-badge.svg\" alt=\"Open In Colab\"/></a>"
      ]
    },
    {
      "cell_type": "markdown",
      "source": [
        "# Negative Testing Selenium Driver for Facebook Login Page\n",
        "\n",
        "Today I gonna show you how to do negative test in Facebook login form with Selenium that I implemented code from https://www.guru99.com/selenium-python.html.\n",
        "\n",
        "\n",
        "Thanks for guru99.com as a great source for learning testing with Selenium"
      ],
      "metadata": {
        "id": "s1Og1Ho_yLb7"
      }
    },
    {
      "cell_type": "code",
      "execution_count": null,
      "metadata": {
        "id": "6r92W22qyID_"
      },
      "outputs": [],
      "source": [
        "from selenium import webdriver\n",
        "from selenium.webdriver.common.keys import Keys\n",
        "\n",
        "user_name = \"test_failed123@gmail.com\"\n",
        "password = \"test_failed123\"\n",
        "\n",
        "driver = webdriver.Firefox()\n",
        "driver.get(\"https://www.facebook.com\")\n",
        "element = driver.find_element_by_id(\"email\")\n",
        "element.send_keys(user_name)\n",
        "element = driver.find_element_by_id(\"password\")\n",
        "element.send_keys(password)\n",
        "element.send_keys(Keys.RETURN)\n",
        "element.close()"
      ]
    }
  ]
}